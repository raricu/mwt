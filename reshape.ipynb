{
 "cells": [
  {
   "cell_type": "code",
   "execution_count": 1,
   "id": "31a7aee5",
   "metadata": {},
   "outputs": [],
   "source": [
    "import numpy as np\n",
    "import matplotlib.pyplot as plt\n",
    "import os\n",
    "from natsort import natsorted"
   ]
  },
  {
   "cell_type": "code",
   "execution_count": 2,
   "id": "865126fa",
   "metadata": {},
   "outputs": [],
   "source": [
    "# data = np.load('elevation_sol_0.npy')"
   ]
  },
  {
   "cell_type": "code",
   "execution_count": 3,
   "id": "ac1f9c7d",
   "metadata": {},
   "outputs": [],
   "source": [
    "# print(data.shape)"
   ]
  },
  {
   "cell_type": "code",
   "execution_count": 4,
   "id": "be75fd26",
   "metadata": {},
   "outputs": [],
   "source": [
    "# plt.matshow(data[:, :, 49])"
   ]
  },
  {
   "cell_type": "code",
   "execution_count": 5,
   "id": "7810d6c6",
   "metadata": {},
   "outputs": [
    {
     "name": "stdout",
     "output_type": "stream",
     "text": [
      "160\n"
     ]
    }
   ],
   "source": [
    "path = 'Data/ice data/xyu/'\n",
    "file_names = os.listdir(path)\n",
    "sorted_file_names = natsorted(file_names)\n",
    "print(len(sorted_file_names))"
   ]
  },
  {
   "cell_type": "code",
   "execution_count": 8,
   "id": "3e373a1b",
   "metadata": {},
   "outputs": [],
   "source": [
    "# data_total = np.load(path+sorted_file_names[1])\n",
    "# print(data_total.shape)\n",
    "data_total = []\n",
    "for file in range(0, len(sorted_file_names)):\n",
    "    data = np.load(path+sorted_file_names[file])\n",
    "    data_total.append(data)\n",
    "\n",
    "data_total = np.array(data_total)\n",
    "# data_total.permute(3, 1, 2, 0)"
   ]
  },
  {
   "cell_type": "code",
   "execution_count": 9,
   "id": "0f805f42",
   "metadata": {},
   "outputs": [
    {
     "name": "stdout",
     "output_type": "stream",
     "text": [
      "(160, 64, 64, 50)\n"
     ]
    }
   ],
   "source": [
    "print(data_total.shape)"
   ]
  },
  {
   "cell_type": "code",
   "execution_count": 10,
   "id": "4ebf8829",
   "metadata": {},
   "outputs": [],
   "source": [
    "np.save(\"Data/ice data/data_xyu.npy\", data_total)"
   ]
  },
  {
   "cell_type": "code",
   "execution_count": 11,
   "id": "0490541c",
   "metadata": {},
   "outputs": [],
   "source": [
    "data = np.load(\"Data/ice data/data_xyu.npy\")"
   ]
  },
  {
   "cell_type": "code",
   "execution_count": 12,
   "id": "b22918c7",
   "metadata": {},
   "outputs": [
    {
     "name": "stdout",
     "output_type": "stream",
     "text": [
      "(160, 64, 64, 50)\n"
     ]
    }
   ],
   "source": [
    "print(data.shape)"
   ]
  },
  {
   "cell_type": "code",
   "execution_count": 13,
   "id": "5467b415",
   "metadata": {},
   "outputs": [],
   "source": [
    "data_flat = data.flatten()"
   ]
  },
  {
   "cell_type": "code",
   "execution_count": 14,
   "id": "102e548c",
   "metadata": {},
   "outputs": [
    {
     "name": "stdout",
     "output_type": "stream",
     "text": [
      "(32768000,)\n",
      "maximum value:  11245.325737716947\n",
      "minimum value:  11.176991157967365\n",
      "mean value:  235.10356811068345\n",
      "variance:  207004.23061836825\n",
      "std:  454.9771759312419\n"
     ]
    }
   ],
   "source": [
    "print(data_flat.shape)\n",
    "print(\"maximum value: \", max(data_flat))\n",
    "print(\"minimum value: \", min(data_flat))\n",
    "print(\"mean value: \", np.mean(data_flat))\n",
    "print(\"variance: \", np.var(data_flat))\n",
    "print(\"std: \", np.sqrt(np.var(data_flat)))"
   ]
  },
  {
   "cell_type": "code",
   "execution_count": 15,
   "id": "0bead438",
   "metadata": {},
   "outputs": [],
   "source": [
    "def add_noise(mean, std, data):\n",
    "    for i in range(data.shape[0]):\n",
    "        for j in range(data.shape[3]):\n",
    "            noise = np.random.normal(mean, std, (data.shape[1], data.shape[2]))\n",
    "            data[i, :, :, j] += noise\n",
    "    return data"
   ]
  },
  {
   "cell_type": "code",
   "execution_count": 16,
   "id": "4e28c222",
   "metadata": {},
   "outputs": [],
   "source": [
    "mean = 0\n",
    "stddev = 2\n",
    "# noise = np.random.normal(mean, stddev, (64, 64))\n",
    "# print(noise.shape)\n",
    "# print(noise[0, 34])\n",
    "noisy_data = add_noise(mean, stddev, data)"
   ]
  },
  {
   "cell_type": "code",
   "execution_count": 17,
   "id": "0142d637",
   "metadata": {},
   "outputs": [
    {
     "data": {
      "text/plain": [
       "<matplotlib.image.AxesImage at 0x7f6667c1bb20>"
      ]
     },
     "execution_count": 17,
     "metadata": {},
     "output_type": "execute_result"
    },
    {
     "data": {
      "image/png": "[encoded data removed]",
      "text/plain": [
       "<Figure size 480x480 with 1 Axes>"
      ]
     },
     "metadata": {},
     "output_type": "display_data"
    }
   ],
   "source": [
    "plt.matshow(noisy_data[0][:, :, 40])"
   ]
  },
  {
   "cell_type": "code",
   "execution_count": 18,
   "id": "1fad1af2",
   "metadata": {},
   "outputs": [],
   "source": [
    "np.save(\"Data/ice data/noisy_xyu.npy\", noisy_data)"
   ]
  },
  {
   "cell_type": "code",
   "execution_count": null,
   "id": "e4c1dbef",
   "metadata": {},
   "outputs": [],
   "source": []
  }
 ],
 "metadata": {
  "kernelspec": {
   "display_name": "Python 3 (ipykernel)",
   "language": "python",
   "name": "python3"
  },
  "language_info": {
   "codemirror_mode": {
    "name": "ipython",
    "version": 3
   },
   "file_extension": ".py",
   "mimetype": "text/x-python",
   "name": "python",
   "nbconvert_exporter": "python",
   "pygments_lexer": "ipython3",
   "version": "3.8.10"
  }
 },
 "nbformat": 4,
 "nbformat_minor": 5
}
