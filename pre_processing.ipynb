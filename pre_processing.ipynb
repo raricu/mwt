{
 "cells": [
  {
   "cell_type": "code",
   "execution_count": 1,
   "id": "77ef26f5",
   "metadata": {},
   "outputs": [],
   "source": [
    "import numpy as np\n",
    "import matplotlib.pyplot as plt\n",
    "import os\n",
    "import natsort"
   ]
  },
  {
   "cell_type": "code",
   "execution_count": 2,
   "id": "c05672b6",
   "metadata": {},
   "outputs": [],
   "source": [
    "input = np.load('Data/data_reshaped/64/data_total.npy')"
   ]
  },
  {
   "cell_type": "code",
   "execution_count": 3,
   "id": "e27e0dd0",
   "metadata": {},
   "outputs": [
    {
     "name": "stdout",
     "output_type": "stream",
     "text": [
      "(322, 64, 64, 50)\n"
     ]
    }
   ],
   "source": [
    "print(input.shape)"
   ]
  },
  {
   "cell_type": "code",
   "execution_count": 4,
   "id": "a37a7ba2",
   "metadata": {},
   "outputs": [
    {
     "data": {
      "text/plain": [
       "<matplotlib.image.AxesImage at 0x7fa6d051ec10>"
      ]
     },
     "execution_count": 4,
     "metadata": {},
     "output_type": "execute_result"
    },
    {
     "data": {
      "image/png": "[encoded data removed]",
      "text/plain": [
       "<Figure size 480x480 with 1 Axes>"
      ]
     },
     "metadata": {},
     "output_type": "display_data"
    }
   ],
   "source": [
    "plt.matshow(input[0][:, :, 20])"
   ]
  },
  {
   "cell_type": "code",
   "execution_count": 5,
   "id": "c4f78eb1",
   "metadata": {},
   "outputs": [
    {
     "data": {
      "text/plain": [
       "array([1.13969697, 1.21680622, 1.29391547, 1.37102472, 1.44813397,\n",
       "       1.52524322, 1.60235247, 1.67946172, 1.75657097, 1.83368022,\n",
       "       1.91078947, 1.98789872, 2.06500797, 2.14211723, 2.21922648,\n",
       "       2.29633573, 2.37344498, 2.45055423, 2.52766348, 2.60477273,\n",
       "       2.68188198, 2.75899123, 2.83610048, 2.91320973, 2.99031898,\n",
       "       3.06742823, 3.14453748, 3.22164673, 3.29875598, 3.37586523,\n",
       "       3.45297448, 3.53008373, 3.60719298, 3.68430223, 3.76141148,\n",
       "       3.83852073, 3.91562998, 3.99273923, 4.06984848, 4.14695774,\n",
       "       4.22406699, 4.30117624, 4.37828549, 4.45539474, 4.53250399,\n",
       "       4.60961324, 4.68672249, 4.76383174, 4.84094099, 4.91805024,\n",
       "       4.99515949, 5.07226874, 5.14937799, 5.22648724, 5.30359649,\n",
       "       5.38070574, 5.45781499, 5.53492424, 5.61203349, 5.68914274,\n",
       "       5.76625199, 5.84336124, 5.92047049, 5.99757974, 6.074689  ,\n",
       "       6.15179825, 6.2289075 , 6.30601675, 6.383126  , 6.46023525,\n",
       "       6.5373445 , 6.61445375, 6.691563  , 6.76867225, 6.8457815 ,\n",
       "       6.92289075, 7.        ])"
      ]
     },
     "execution_count": 5,
     "metadata": {},
     "output_type": "execute_result"
    }
   ],
   "source": [
    "np.linspace(1.13969697 , 7.0, 77)"
   ]
  },
  {
   "cell_type": "code",
   "execution_count": 6,
   "id": "642223a3",
   "metadata": {},
   "outputs": [
    {
     "data": {
      "text/plain": [
       "array([3.39909091, 3.46969697, 3.54030303, 3.61090909, 3.68151515,\n",
       "       3.75212121, 3.82272727, 3.89333333, 3.96393939, 4.03454546,\n",
       "       4.10515152, 4.17575758, 4.24636364, 4.3169697 , 4.38757576,\n",
       "       4.45818182, 4.52878788, 4.59939394, 4.67      , 4.74060606,\n",
       "       4.81121212, 4.88181818, 4.95242424, 5.0230303 , 5.09363636,\n",
       "       5.16424242, 5.23484849, 5.30545455, 5.37606061, 5.44666667,\n",
       "       5.51727273, 5.58787879, 5.65848485, 5.72909091, 5.79969697,\n",
       "       5.87030303, 5.94090909, 6.01151515, 6.08212121, 6.15272727,\n",
       "       6.22333333, 6.29393939, 6.36454545, 6.43515152, 6.50575758,\n",
       "       6.57636364, 6.6469697 , 6.71757576, 6.78818182, 6.85878788,\n",
       "       6.92939394, 7.        ])"
      ]
     },
     "execution_count": 6,
     "metadata": {},
     "output_type": "execute_result"
    }
   ],
   "source": [
    "np.linspace(3.39909091 , 7.0, 52)"
   ]
  },
  {
   "cell_type": "code",
   "execution_count": 7,
   "id": "9f803232",
   "metadata": {},
   "outputs": [],
   "source": [
    "def create_matrices(directory):\n",
    "    data = []\n",
    "    files = natsort.natsorted(os.listdir(directory))\n",
    "    for i in files:\n",
    "        if i.split('_')[1] == 'checkpoints':\n",
    "            pass\n",
    "        else:\n",
    "            a = np.empty((64, 64, 2))\n",
    "            # print(i.split('_')[1])\n",
    "            rows= np.linspace(100*float(i.split('_')[1]), float(i.split('_')[3][:-4]), a.shape[1])\n",
    "            data1 = np.load(directory + '/' + i)\n",
    "            a[:, :, 1] = data1[:, :, -1]\n",
    "            for j in range(a.shape[0]):\n",
    "                a[j, :, 0] = np.ones(a.shape[1])*rows[j]\n",
    "            data.append(a)\n",
    "    return np.array(data)"
   ]
  },
  {
   "cell_type": "code",
   "execution_count": 8,
   "id": "8c8a257f",
   "metadata": {},
   "outputs": [],
   "source": [
    "def create_matrices2(directory):\n",
    "    data = []\n",
    "    files = natsort.natsorted(os.listdir(directory))\n",
    "    for i in files:\n",
    "        if i.split('_')[1] == 'checkpoints':\n",
    "            pass\n",
    "        else:\n",
    "            a = np.empty((64, 64, 2))\n",
    "            rand = np.random.normal(float(i.split('_')[3][:-4]), scale = 0.01)\n",
    "#             print(i.split('_')[3][:-4])\n",
    "            a[:, :, 0] = np.ones((a.shape[0], a.shape[1]))*rand\n",
    "            a[:, :, 1] = np.load(directory + '/' + i)[:, :, -1]\n",
    "            data.append(a)\n",
    "    return np.array(data)"
   ]
  },
  {
   "cell_type": "code",
   "execution_count": 9,
   "id": "752d1302",
   "metadata": {},
   "outputs": [
    {
     "name": "stdout",
     "output_type": "stream",
     "text": [
      "(13720, 64, 64, 2)\n"
     ]
    }
   ],
   "source": [
    "data2 = create_matrices2('Data/much_data')\n",
    "# np.save('Data/temps_train.npy', data2)\n",
    "print(data2.shape)\n",
    "# print(data2[0, :, :, 0])\n",
    "# plt.matshow(data2[100, :, :, 0])"
   ]
  },
  {
   "cell_type": "code",
   "execution_count": 10,
   "id": "6347d421",
   "metadata": {},
   "outputs": [
    {
     "name": "stdout",
     "output_type": "stream",
     "text": [
      "(13720, 64, 64, 2)\n",
      "(400, 64, 64, 2)\n",
      "0.01\n"
     ]
    }
   ],
   "source": [
    "data = create_matrices('Data/much_data')\n",
    "data_old = np.load('Data/2D_altered.npy')\n",
    "print(data.shape)\n",
    "print(data_old.shape)\n",
    "print(data_old[0, 0, 0, 0])\n",
    "for i in range (data_old.shape[0]):\n",
    "    rows= np.linspace(100*data_old[i, 0, 0, 0], data_old[i, -1, -1, 0], 64)\n",
    "    for j in range(len(rows)):\n",
    "        data_old[i, j, :, 0] = np.ones(64)*rows[j]"
   ]
  },
  {
   "cell_type": "code",
   "execution_count": 11,
   "id": "215a4168",
   "metadata": {},
   "outputs": [
    {
     "name": "stdout",
     "output_type": "stream",
     "text": [
      "1.0\n"
     ]
    }
   ],
   "source": [
    "print(data_old[0, 0, 0, 0])"
   ]
  },
  {
   "cell_type": "code",
   "execution_count": 12,
   "id": "6dd2dc43",
   "metadata": {},
   "outputs": [
    {
     "name": "stdout",
     "output_type": "stream",
     "text": [
      "-500.0\n",
      "100.0\n",
      "1.0\n",
      "246.05263157894737\n",
      "143.14285714285714\n",
      "265.0\n",
      "3.01010101010101\n",
      "(14120, 64, 64, 2)\n"
     ]
    }
   ],
   "source": [
    "data_total = np.vstack((data, data_old))\n",
    "# print(data_total.shape)\n",
    "print(data[-1, 0, 0, 0])\n",
    "print(data[-1, -1, -1, 0])\n",
    "print(data_old[1, 0, 0, 0])\n",
    "print(data_old[1, -1, -1, 0])\n",
    "print(data_total[10000, 0, 0, 0])\n",
    "print(data_total[-1, -1, -1, 0])\n",
    "data_total = data_total[::-1]\n",
    "print(data_total[-399, 0, 0, 0])\n",
    "np.save('Data/2D_much.npy', data_total)\n",
    "print(data_total.shape)"
   ]
  },
  {
   "cell_type": "code",
   "execution_count": 13,
   "id": "f77432c7",
   "metadata": {},
   "outputs": [],
   "source": [
    "# plt.matshow(data_total[-1, :, :, 1])"
   ]
  },
  {
   "cell_type": "code",
   "execution_count": null,
   "id": "552d5fa7",
   "metadata": {},
   "outputs": [],
   "source": []
  }
 ],
 "metadata": {
  "kernelspec": {
   "display_name": "Python 3 (ipykernel)",
   "language": "python",
   "name": "python3"
  },
  "language_info": {
   "codemirror_mode": {
    "name": "ipython",
    "version": 3
   },
   "file_extension": ".py",
   "mimetype": "text/x-python",
   "name": "python",
   "nbconvert_exporter": "python",
   "pygments_lexer": "ipython3",
   "version": "3.8.10"
  }
 },
 "nbformat": 4,
 "nbformat_minor": 5
}
